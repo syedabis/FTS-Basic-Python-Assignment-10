{
 "cells": [
  {
   "cell_type": "code",
   "execution_count": 5,
   "id": "7b30d7f5",
   "metadata": {},
   "outputs": [
    {
     "name": "stdout",
     "output_type": "stream",
     "text": [
      "Looking in C:\\Users\\Digital786\\Deep Learning\\Full Stack Data Science\\practice\\random_folder for files with extensions of .php, .ipynb\n",
      "Coping C:\\Users\\Digital786\\Deep Learning\\Full Stack Data Science\\practice\\random_folder\\random.ipynb to C:\\Users\\Digital786\\Deep Learning\\Full Stack Data Science\\practice\\selectiveFolder\n",
      "Coping C:\\Users\\Digital786\\Deep Learning\\Full Stack Data Science\\practice\\random_folder\\.ipynb_checkpoints\\random-checkpoint.ipynb to C:\\Users\\Digital786\\Deep Learning\\Full Stack Data Science\\practice\\selectiveFolder\n"
     ]
    }
   ],
   "source": [
    "import os\n",
    "import shutil\n",
    "\n",
    "def selectiveCopy(folder, extensions, destFolder):\n",
    "\tfolder = os.path.abspath(folder)\n",
    "\tdestFolder = os.path.abspath(destFolder)\n",
    "\tprint('Looking in', folder, 'for files with extensions of', ', '.join(extensions))\n",
    "\tfor foldername, subfolders, filenames in os.walk(folder):\n",
    "\t\tfor filename in filenames:\n",
    "\t\t\tname, extension = os.path.splitext(filename)\n",
    "\t\t\tif extension in extensions:\n",
    "\t\t\t\tfileAbsPath = foldername + os.path.sep + filename\n",
    "\t\t\t\tprint('Coping', fileAbsPath, 'to', destFolder)\n",
    "\t\t\t\tshutil.copy(fileAbsPath, destFolder)\n",
    "\n",
    "extensions = ['.php', '.ipynb']\n",
    "folder = 'random_folder'\n",
    "destFolder = 'selectiveFolder'\n",
    "selectiveCopy(folder, extensions, destFolder)"
   ]
  },
  {
   "cell_type": "code",
   "execution_count": null,
   "id": "a451abef",
   "metadata": {},
   "outputs": [],
   "source": []
  }
 ],
 "metadata": {
  "kernelspec": {
   "display_name": "Python 3 (ipykernel)",
   "language": "python",
   "name": "python3"
  },
  "language_info": {
   "codemirror_mode": {
    "name": "ipython",
    "version": 3
   },
   "file_extension": ".py",
   "mimetype": "text/x-python",
   "name": "python",
   "nbconvert_exporter": "python",
   "pygments_lexer": "ipython3",
   "version": "3.9.7"
  }
 },
 "nbformat": 4,
 "nbformat_minor": 5
}
